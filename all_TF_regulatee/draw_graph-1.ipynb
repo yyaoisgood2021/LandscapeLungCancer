{
 "cells": [
  {
   "attachments": {},
   "cell_type": "markdown",
   "metadata": {},
   "source": [
    "this file draws a graph plot for SPDEF TF\n",
    "\n",
    "load cancer-related graph\n",
    "\n",
    "\n"
   ]
  },
  {
   "cell_type": "code",
   "execution_count": 1,
   "metadata": {},
   "outputs": [],
   "source": [
    "import numpy as np\n",
    "import matplotlib.pyplot as plt\n",
    "import pandas as pd\n",
    "import seaborn as sns\n",
    "import matplotlib\n",
    "import os, sys"
   ]
  },
  {
   "cell_type": "code",
   "execution_count": 2,
   "metadata": {},
   "outputs": [
    {
     "data": {
      "text/html": [
       "<div>\n",
       "<style scoped>\n",
       "    .dataframe tbody tr th:only-of-type {\n",
       "        vertical-align: middle;\n",
       "    }\n",
       "\n",
       "    .dataframe tbody tr th {\n",
       "        vertical-align: top;\n",
       "    }\n",
       "\n",
       "    .dataframe thead th {\n",
       "        text-align: right;\n",
       "    }\n",
       "</style>\n",
       "<table border=\"1\" class=\"dataframe\">\n",
       "  <thead>\n",
       "    <tr style=\"text-align: right;\">\n",
       "      <th></th>\n",
       "      <th>Unnamed: 0</th>\n",
       "      <th>TF</th>\n",
       "      <th>pval</th>\n",
       "      <th>mean_cancer</th>\n",
       "      <th>mean_normal</th>\n",
       "      <th>fold_change</th>\n",
       "      <th>log2FC</th>\n",
       "      <th>pval.adjust</th>\n",
       "    </tr>\n",
       "  </thead>\n",
       "  <tbody>\n",
       "    <tr>\n",
       "      <th>0</th>\n",
       "      <td>1</td>\n",
       "      <td>AC023509.3</td>\n",
       "      <td>0.149378</td>\n",
       "      <td>0.000009</td>\n",
       "      <td>0.000011</td>\n",
       "      <td>0.854486</td>\n",
       "      <td>-0.226872</td>\n",
       "      <td>0.552460</td>\n",
       "    </tr>\n",
       "    <tr>\n",
       "      <th>1</th>\n",
       "      <td>2</td>\n",
       "      <td>AC138696.1</td>\n",
       "      <td>0.054814</td>\n",
       "      <td>0.000013</td>\n",
       "      <td>0.000015</td>\n",
       "      <td>0.879914</td>\n",
       "      <td>-0.184566</td>\n",
       "      <td>0.469544</td>\n",
       "    </tr>\n",
       "    <tr>\n",
       "      <th>2</th>\n",
       "      <td>3</td>\n",
       "      <td>AHR</td>\n",
       "      <td>0.098957</td>\n",
       "      <td>0.000295</td>\n",
       "      <td>0.000224</td>\n",
       "      <td>1.317981</td>\n",
       "      <td>0.398330</td>\n",
       "      <td>0.499067</td>\n",
       "    </tr>\n",
       "    <tr>\n",
       "      <th>3</th>\n",
       "      <td>4</td>\n",
       "      <td>AIRE</td>\n",
       "      <td>0.062891</td>\n",
       "      <td>0.000040</td>\n",
       "      <td>0.000064</td>\n",
       "      <td>0.627475</td>\n",
       "      <td>-0.672370</td>\n",
       "      <td>0.480882</td>\n",
       "    </tr>\n",
       "  </tbody>\n",
       "</table>\n",
       "</div>"
      ],
      "text/plain": [
       "   Unnamed: 0          TF      pval  mean_cancer  mean_normal  fold_change  \\\n",
       "0           1  AC023509.3  0.149378     0.000009     0.000011     0.854486   \n",
       "1           2  AC138696.1  0.054814     0.000013     0.000015     0.879914   \n",
       "2           3         AHR  0.098957     0.000295     0.000224     1.317981   \n",
       "3           4        AIRE  0.062891     0.000040     0.000064     0.627475   \n",
       "\n",
       "     log2FC  pval.adjust  \n",
       "0 -0.226872     0.552460  \n",
       "1 -0.184566     0.469544  \n",
       "2  0.398330     0.499067  \n",
       "3 -0.672370     0.480882  "
      ]
     },
     "execution_count": 2,
     "metadata": {},
     "output_type": "execute_result"
    }
   ],
   "source": [
    "tf_dt = pd.read_csv('/stg3/data3/peiyao/work/20230922.Lina_lung/results/taiji/TF_MWU.txt')\n",
    "tf_dt.iloc[:4, ]\n"
   ]
  },
  {
   "cell_type": "code",
   "execution_count": 10,
   "metadata": {},
   "outputs": [
    {
     "name": "stdout",
     "output_type": "stream",
     "text": [
      "30\n",
      "['ALX4', 'ARID3B', 'BACH2', 'BCL6B', 'EMX1', 'FOXR2', 'HOXA3', 'HOXA5', 'KDM2B', 'KLF13', 'KLF4', 'LBX1', 'LHX3', 'MEIS1', 'PAX3', 'PAX6', 'RUNX2', 'SOX7', 'SP3', 'SRF', 'SRY', 'TBX22', 'TEAD4', 'TFAP2C', 'ZBTB7B', 'ZFX', 'ZNF254', 'ZNF267', 'ZNF354B', 'ZNF610']\n"
     ]
    }
   ],
   "source": [
    "tf_dt_ = tf_dt[tf_dt['pval']<=0.05]\n",
    "tf_dt__ = tf_dt_[(tf_dt_['log2FC']>=0.3)| (tf_dt_['log2FC']<=-0.3)] # 68\n",
    "tf_dt___ = tf_dt__[(tf_dt__['log2FC']<0.5) & (tf_dt__['log2FC']>-0.5)]\n",
    "a = list(tf_dt___['TF'])\n",
    "print(len(a))\n",
    "print(a)"
   ]
  },
  {
   "cell_type": "code",
   "execution_count": 3,
   "metadata": {},
   "outputs": [
    {
     "data": {
      "text/plain": [
       "'2.8.6'"
      ]
     },
     "execution_count": 3,
     "metadata": {},
     "output_type": "execute_result"
    }
   ],
   "source": [
    "import networkx as nx\n",
    "nx.__version__"
   ]
  },
  {
   "cell_type": "code",
   "execution_count": null,
   "metadata": {},
   "outputs": [],
   "source": []
  }
 ],
 "metadata": {
  "kernelspec": {
   "display_name": "Python 3 (ipykernel)",
   "language": "python",
   "name": "python3"
  },
  "language_info": {
   "codemirror_mode": {
    "name": "ipython",
    "version": 3
   },
   "file_extension": ".py",
   "mimetype": "text/x-python",
   "name": "python",
   "nbconvert_exporter": "python",
   "pygments_lexer": "ipython3",
   "version": "3.9.18"
  }
 },
 "nbformat": 4,
 "nbformat_minor": 4
}
